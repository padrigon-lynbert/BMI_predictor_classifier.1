{
 "cells": [
  {
   "cell_type": "code",
   "execution_count": 101,
   "metadata": {},
   "outputs": [],
   "source": [
    "import pandas as pd\n",
    "import os\n",
    "import seaborn as sns\n",
    "from matplotlib import pyplot as plt\n",
    "from sklearn.model_selection import train_test_split\n",
    "from sklearn.preprocessing import StandardScaler\n",
    "from imblearn.over_sampling import SMOTE"
   ]
  },
  {
   "cell_type": "code",
   "execution_count": 109,
   "metadata": {},
   "outputs": [],
   "source": [
    "base = \"D:\\manualCDmanagement\\codes\\Projects\\VMs\\skl algorithms\\Logistic Regression/00_datasets/bmi.1\"\n",
    "save_path = \"D:\\manualCDmanagement\\codes\\Projects\\VMs\\skl algorithms\\Logistic Regression/bmi.1/Storage/Figures\"\n",
    "file_name = \"bmi.csv\"\n",
    "path = os.path.join(base, file_name)\n",
    "\n",
    "df = pd.read_csv(path)\n",
    "\n",
    "df.Gender = df.Gender.map({'Male': 1, 'Female': 0})\n",
    "\n",
    "# df.isnull().sum()\n",
    "# df.columns\n",
    "# df.Gender.unique()\n",
    "# print(df['Index'].value_counts())\n"
   ]
  },
  {
   "cell_type": "code",
   "execution_count": 80,
   "metadata": {},
   "outputs": [],
   "source": [
    "# corr_matrix = df.corr()\n",
    "# sns.heatmap(corr_matrix, annot=True, fmt='.2f', annot_kws={\"size\": 8.5}, cmap='inferno')\n",
    "# plt.title(\"correlation matrix\")\n",
    "# save_name = 'correlation_matrix.png'\n",
    "# plt.savefig(os.path.join(save_path, save_name))"
   ]
  },
  {
   "cell_type": "code",
   "execution_count": 110,
   "metadata": {},
   "outputs": [],
   "source": [
    "X = df.drop('Index', axis=1)\n",
    "y = df['Index']\n",
    "\n",
    "scaler = StandardScaler()\n",
    "X_scaled = scaler.fit_transform(X)\n",
    "\n",
    "X_train, X_test, y_train, y_test = train_test_split(X_scaled, y, test_size=0.2, random_state=42)"
   ]
  },
  {
   "cell_type": "code",
   "execution_count": 112,
   "metadata": {},
   "outputs": [
    {
     "name": "stdout",
     "output_type": "stream",
     "text": [
      "\n",
      "Class Distribution After SMOTE:\n"
     ]
    }
   ],
   "source": [
    "smote = SMOTE(random_state=42)\n",
    "X_train_resampled, y_train_resampled = smote.fit_resample(X_train, y_train)\n",
    "\n",
    "print(\"\\nClass Distribution After SMOTE:\")\n",
    "# print(pd.Series(y_train_resampled).value_counts())"
   ]
  },
  {
   "cell_type": "code",
   "execution_count": 113,
   "metadata": {},
   "outputs": [],
   "source": [
    "# create the model"
   ]
  }
 ],
 "metadata": {
  "kernelspec": {
   "display_name": "base",
   "language": "python",
   "name": "python3"
  },
  "language_info": {
   "codemirror_mode": {
    "name": "ipython",
    "version": 3
   },
   "file_extension": ".py",
   "mimetype": "text/x-python",
   "name": "python",
   "nbconvert_exporter": "python",
   "pygments_lexer": "ipython3",
   "version": "3.11.5"
  }
 },
 "nbformat": 4,
 "nbformat_minor": 2
}
